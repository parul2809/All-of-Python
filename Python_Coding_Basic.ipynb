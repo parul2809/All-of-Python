{
  "nbformat": 4,
  "nbformat_minor": 0,
  "metadata": {
    "colab": {
      "provenance": [],
      "authorship_tag": "ABX9TyNqEs00xzED1okHVXEil3Ph",
      "include_colab_link": true
    },
    "kernelspec": {
      "name": "python3",
      "display_name": "Python 3"
    },
    "language_info": {
      "name": "python"
    }
  },
  "cells": [
    {
      "cell_type": "markdown",
      "metadata": {
        "id": "view-in-github",
        "colab_type": "text"
      },
      "source": [
        "<a href=\"https://colab.research.google.com/github/parul2809/All-of-Python/blob/main/Python_Coding_Basic.ipynb\" target=\"_parent\"><img src=\"https://colab.research.google.com/assets/colab-badge.svg\" alt=\"Open In Colab\"/></a>"
      ]
    },
    {
      "cell_type": "markdown",
      "source": [
        "1. Write a program to print “Hello, World!”."
      ],
      "metadata": {
        "id": "H03hSXPPF2JA"
      }
    },
    {
      "cell_type": "code",
      "source": [
        "print(\"Hello, World!\")"
      ],
      "metadata": {
        "colab": {
          "base_uri": "https://localhost:8080/"
        },
        "id": "ktWiQLV3F20d",
        "outputId": "cdca3da3-9425-49c8-838c-9abde4d2c3d5"
      },
      "execution_count": 2,
      "outputs": [
        {
          "output_type": "stream",
          "name": "stdout",
          "text": [
            "Hello, World!\n"
          ]
        }
      ]
    },
    {
      "cell_type": "markdown",
      "source": [
        "2. Write a program to check if a number is even or odd."
      ],
      "metadata": {
        "id": "p7Un146nGBuT"
      }
    },
    {
      "cell_type": "code",
      "source": [
        "num = int(input(\"Enter a number: \"))\n",
        "if num%2 == 0:\n",
        "  print(num,\"is even\")\n",
        "else:\n",
        "  print(num,\"is odd\")"
      ],
      "metadata": {
        "colab": {
          "base_uri": "https://localhost:8080/"
        },
        "id": "IlLsGey2F6Yj",
        "outputId": "226f664f-d487-4096-a8a9-41c9e9137e94"
      },
      "execution_count": 7,
      "outputs": [
        {
          "output_type": "stream",
          "name": "stdout",
          "text": [
            "Enter a number: 3\n",
            "3 is odd\n"
          ]
        }
      ]
    },
    {
      "cell_type": "markdown",
      "source": [
        "3. Write a program to find the sum of all numbers in a list."
      ],
      "metadata": {
        "id": "jHRe8f2VGpdg"
      }
    },
    {
      "cell_type": "code",
      "source": [
        "li = [2, 3, 4, -1, 0]\n",
        "\n",
        "sum_li = 0\n",
        "for item in li:\n",
        "  sum_li += item\n",
        "print(\"Sum of numbers: \", sum_li)"
      ],
      "metadata": {
        "colab": {
          "base_uri": "https://localhost:8080/"
        },
        "id": "StSbsjGkGGC6",
        "outputId": "7e6084f8-93c0-4191-96ea-203045b1577a"
      },
      "execution_count": 9,
      "outputs": [
        {
          "output_type": "stream",
          "name": "stdout",
          "text": [
            "Sum of numbers:  8\n"
          ]
        }
      ]
    },
    {
      "cell_type": "markdown",
      "source": [
        "4. Write a program to find the largest number in a list."
      ],
      "metadata": {
        "id": "ibkJdyNfHA0g"
      }
    },
    {
      "cell_type": "code",
      "source": [
        "li = [2, 3, 4, -1, 0]\n",
        "\n",
        "largest_num = li[0]\n",
        "for item in li:\n",
        "  if item > largest_num:\n",
        "    largest_num = item\n",
        "print(\"Largest number: \", largest_num)"
      ],
      "metadata": {
        "colab": {
          "base_uri": "https://localhost:8080/"
        },
        "id": "Fs0uOJMyGsv9",
        "outputId": "a36d2930-5542-49fa-fbc1-6447fc2d82ed"
      },
      "execution_count": 10,
      "outputs": [
        {
          "output_type": "stream",
          "name": "stdout",
          "text": [
            "Largest number:  4\n"
          ]
        }
      ]
    },
    {
      "cell_type": "markdown",
      "source": [
        "5. Write a program to reverse a string."
      ],
      "metadata": {
        "id": "ABSPPiJ9H7Tu"
      }
    },
    {
      "cell_type": "code",
      "source": [
        "name = \"Parul\"\n",
        "print(name[::-1])"
      ],
      "metadata": {
        "colab": {
          "base_uri": "https://localhost:8080/"
        },
        "id": "N2hckk66H7_f",
        "outputId": "71625ce3-b350-46bf-984f-8347dc976424"
      },
      "execution_count": 19,
      "outputs": [
        {
          "output_type": "stream",
          "name": "stdout",
          "text": [
            "luraP\n"
          ]
        }
      ]
    },
    {
      "cell_type": "markdown",
      "source": [
        "6. Write a program to check if a string is a palindrome."
      ],
      "metadata": {
        "id": "1sQF8zRDJGcu"
      }
    },
    {
      "cell_type": "code",
      "source": [
        "name = \"Parul\"\n",
        "name = name.lower()\n",
        "if name == name[::-1]:\n",
        "  print(name, \"is palindrome.\")\n",
        "else:\n",
        "  print(name, \"is NOT palindrome.\")"
      ],
      "metadata": {
        "colab": {
          "base_uri": "https://localhost:8080/"
        },
        "id": "xcD39wBIH_I3",
        "outputId": "93d597de-2462-42d4-c63b-d2449882f7dd"
      },
      "execution_count": 25,
      "outputs": [
        {
          "output_type": "stream",
          "name": "stdout",
          "text": [
            "parul is NOT palindrome.\n"
          ]
        }
      ]
    },
    {
      "cell_type": "markdown",
      "source": [
        "7. Write a program to find the factorial of a number."
      ],
      "metadata": {
        "id": "072wbdrKJmlb"
      }
    },
    {
      "cell_type": "code",
      "source": [
        "num = int(input(\"Enter a number: \"))\n",
        "fac = 1\n",
        "\n",
        "for rep in range(1, num+1):\n",
        "  fac = fac * rep\n",
        "print(\"Factorial of\", num, \"is\", fac)"
      ],
      "metadata": {
        "colab": {
          "base_uri": "https://localhost:8080/"
        },
        "id": "43qdmGFyJMHg",
        "outputId": "a1e522ec-1f35-43c4-cb36-7b53c1ee0362"
      },
      "execution_count": 26,
      "outputs": [
        {
          "output_type": "stream",
          "name": "stdout",
          "text": [
            "Enter a number: 5\n",
            "Factorial of 5 is 120\n"
          ]
        }
      ]
    },
    {
      "cell_type": "markdown",
      "source": [
        "8. Write a program to check if a number is prime."
      ],
      "metadata": {
        "id": "KXW8oKtkKTw4"
      }
    },
    {
      "cell_type": "code",
      "source": [
        "num = int(input(\"Enter a number: \"))\n",
        "if num>1:\n",
        "  for rep in range(2, int(num/2)+1):\n",
        "    if num%rep == 0:\n",
        "      print(num, \"is NOT prime\")\n",
        "      break\n",
        "    else:\n",
        "      print(num, \"is prime\")\n",
        "      break\n",
        "else:\n",
        "  print(num, \"is prime\")"
      ],
      "metadata": {
        "colab": {
          "base_uri": "https://localhost:8080/"
        },
        "id": "l1yJA5LXKQIA",
        "outputId": "9cd157e2-5f9d-4cbb-d747-5ac56fee0457"
      },
      "execution_count": 37,
      "outputs": [
        {
          "output_type": "stream",
          "name": "stdout",
          "text": [
            "Enter a number: 4\n",
            "4 is NOT prime\n"
          ]
        }
      ]
    },
    {
      "cell_type": "markdown",
      "source": [
        "9. Write a program to find the Fibonacci series up to a given number."
      ],
      "metadata": {
        "id": "ojUwYRuuL68A"
      }
    },
    {
      "cell_type": "code",
      "source": [
        "num = int(input(\"Enter a number: \"))\n",
        "f1 = 0\n",
        "f2 = 1\n",
        "fsum = 0\n",
        "if num ==1:\n",
        "  print(f1)\n",
        "elif num ==2:\n",
        "  print(f1)\n",
        "  print(f2)\n",
        "else:\n",
        "  print(f1)\n",
        "  print(f2)\n",
        "  for rep in range(2, num):\n",
        "    fn = f1 + f2\n",
        "    f1 = f2\n",
        "    f2 = fn\n",
        "    print(fn)"
      ],
      "metadata": {
        "colab": {
          "base_uri": "https://localhost:8080/"
        },
        "id": "-lReaMqQKYa6",
        "outputId": "4471ed9a-6211-40d9-c2c8-a0056c1208c0"
      },
      "execution_count": 49,
      "outputs": [
        {
          "output_type": "stream",
          "name": "stdout",
          "text": [
            "Enter a number: 7\n",
            "0\n",
            "1\n",
            "1\n",
            "2\n",
            "3\n",
            "5\n",
            "8\n"
          ]
        }
      ]
    },
    {
      "cell_type": "markdown",
      "source": [
        "10. Write a program to convert Celsius to Fahrenheit."
      ],
      "metadata": {
        "id": "8Gh6erIlO87C"
      }
    },
    {
      "cell_type": "code",
      "source": [
        "celsius = float(input(\"Enter temperature in Celsius: \"))\n",
        "fahrenheit = ((9/5)*celsius) + 32\n",
        "print(celsius, \"C =\", fahrenheit, \"F\")"
      ],
      "metadata": {
        "colab": {
          "base_uri": "https://localhost:8080/"
        },
        "id": "OGtcKxfROdlC",
        "outputId": "e2bbc267-1a78-466e-d832-b9881a66b47b"
      },
      "execution_count": 52,
      "outputs": [
        {
          "output_type": "stream",
          "name": "stdout",
          "text": [
            "Enter temperature in Celsius: 6\n",
            "6.0 C = 42.8 F\n"
          ]
        }
      ]
    },
    {
      "cell_type": "code",
      "source": [],
      "metadata": {
        "id": "Ii_YMCkqPZAV"
      },
      "execution_count": null,
      "outputs": []
    }
  ]
}