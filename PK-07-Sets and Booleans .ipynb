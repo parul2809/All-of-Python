{
 "cells": [
  {
   "cell_type": "markdown",
   "id": "d3a48ffc",
   "metadata": {},
   "source": [
    "#### PK-07-Sets and Booleans \n",
    "\n",
    "# Sets and Booleans \n",
    "\n",
    "There are two other object types in Python that we should quickly cover: Sets and Booleans.\n",
    "\n",
    "## Sets \n",
    "Sets are an unordered collection of *unique* elements. We can construct them by using the set() function. Let's go ahead and make a set to see how it works."
   ]
  },
  {
   "cell_type": "code",
   "execution_count": 9,
   "id": "f2824e30",
   "metadata": {},
   "outputs": [],
   "source": [
    "x = set()"
   ]
  },
  {
   "cell_type": "code",
   "execution_count": 10,
   "id": "138a4147",
   "metadata": {},
   "outputs": [],
   "source": [
    "# We add elements to sets with the add() method \n",
    "x.add(11)"
   ]
  },
  {
   "cell_type": "code",
   "execution_count": 11,
   "id": "87cd89b9",
   "metadata": {},
   "outputs": [
    {
     "data": {
      "text/plain": [
       "{11}"
      ]
     },
     "execution_count": 11,
     "metadata": {},
     "output_type": "execute_result"
    }
   ],
   "source": [
    "# Show \n",
    "x"
   ]
  },
  {
   "cell_type": "markdown",
   "id": "758c985d",
   "metadata": {},
   "source": [
    "Note the curly brackets. This does not indicate a dictionary! Although you can draw analogies as a set being a dictionary with only keys.\n",
    "\n",
    "We know that a set has only unique entries. So what happens when we try to add something that is already in a set?"
   ]
  },
  {
   "cell_type": "code",
   "execution_count": 12,
   "id": "09d23d43",
   "metadata": {},
   "outputs": [],
   "source": [
    "# Add a different element \n",
    "x.add(22)"
   ]
  },
  {
   "cell_type": "code",
   "execution_count": 13,
   "id": "3f978f57",
   "metadata": {},
   "outputs": [
    {
     "data": {
      "text/plain": [
       "{11, 22}"
      ]
     },
     "execution_count": 13,
     "metadata": {},
     "output_type": "execute_result"
    }
   ],
   "source": [
    "# Show \n",
    "x"
   ]
  },
  {
   "cell_type": "code",
   "execution_count": 14,
   "id": "8b6e7798",
   "metadata": {},
   "outputs": [],
   "source": [
    "# Try to add the same element\n",
    "x.add(11)"
   ]
  },
  {
   "cell_type": "code",
   "execution_count": 15,
   "id": "69acdf14",
   "metadata": {},
   "outputs": [
    {
     "data": {
      "text/plain": [
       "{11, 22}"
      ]
     },
     "execution_count": 15,
     "metadata": {},
     "output_type": "execute_result"
    }
   ],
   "source": [
    "# Show \n",
    "x"
   ]
  },
  {
   "cell_type": "markdown",
   "id": "8c4f2993",
   "metadata": {},
   "source": [
    "Notice how it won't place another 11 there. That's because a set is only concerned with unique elements! We can cast a list with multiple repeat elements to a set to get the unique elements. For example:"
   ]
  },
  {
   "cell_type": "code",
   "execution_count": 16,
   "id": "9c649057",
   "metadata": {},
   "outputs": [],
   "source": [
    "# Create a list with repeats \n",
    "list1 = [22, 56, 77, 33, 11, 33, 22, 33, 67]"
   ]
  },
  {
   "cell_type": "code",
   "execution_count": 17,
   "id": "06c5a194",
   "metadata": {},
   "outputs": [
    {
     "data": {
      "text/plain": [
       "{11, 22, 33, 56, 67, 77}"
      ]
     },
     "execution_count": 17,
     "metadata": {},
     "output_type": "execute_result"
    }
   ],
   "source": [
    "# Cast as set to get unique values \n",
    "set(list1)"
   ]
  },
  {
   "cell_type": "markdown",
   "id": "479cd261",
   "metadata": {},
   "source": [
    "## Booleans "
   ]
  },
  {
   "cell_type": "markdown",
   "id": "973435df",
   "metadata": {},
   "source": [
    "Python comes with Booleans (with predefined **True** and **False** displays that are basically just the integers 1 and 0). It also has a placeholder object called **None**."
   ]
  },
  {
   "cell_type": "code",
   "execution_count": 18,
   "id": "69411558",
   "metadata": {},
   "outputs": [],
   "source": [
    "# Set object to be a boolean \n",
    "a = True "
   ]
  },
  {
   "cell_type": "code",
   "execution_count": 19,
   "id": "cb2b4d0a",
   "metadata": {},
   "outputs": [
    {
     "data": {
      "text/plain": [
       "True"
      ]
     },
     "execution_count": 19,
     "metadata": {},
     "output_type": "execute_result"
    }
   ],
   "source": [
    "# Show \n",
    "a"
   ]
  },
  {
   "cell_type": "markdown",
   "id": "205648b1",
   "metadata": {},
   "source": [
    "We can also use comparison operators to create booleans. "
   ]
  },
  {
   "cell_type": "code",
   "execution_count": 20,
   "id": "fc5ce9cf",
   "metadata": {},
   "outputs": [
    {
     "data": {
      "text/plain": [
       "False"
      ]
     },
     "execution_count": 20,
     "metadata": {},
     "output_type": "execute_result"
    }
   ],
   "source": [
    "# Output is boolean \n",
    "1 > 2"
   ]
  },
  {
   "cell_type": "markdown",
   "id": "c6d92dff",
   "metadata": {},
   "source": [
    "We can use None as a placeholder for an object that we don't want to assign yet:"
   ]
  },
  {
   "cell_type": "code",
   "execution_count": 21,
   "id": "c6eb16c6",
   "metadata": {},
   "outputs": [],
   "source": [
    "# None placeholder \n",
    "b = None "
   ]
  },
  {
   "cell_type": "code",
   "execution_count": 22,
   "id": "35f12e1d",
   "metadata": {},
   "outputs": [
    {
     "name": "stdout",
     "output_type": "stream",
     "text": [
      "None\n"
     ]
    }
   ],
   "source": [
    "# Show \n",
    "print(b)"
   ]
  },
  {
   "cell_type": "code",
   "execution_count": 23,
   "id": "f5c8df21",
   "metadata": {},
   "outputs": [
    {
     "name": "stdout",
     "output_type": "stream",
     "text": [
      "None\n"
     ]
    }
   ],
   "source": [
    "# Show \n",
    "print(b)"
   ]
  },
  {
   "cell_type": "code",
   "execution_count": null,
   "id": "8eed42f0",
   "metadata": {},
   "outputs": [],
   "source": []
  }
 ],
 "metadata": {
  "kernelspec": {
   "display_name": "Python 3",
   "language": "python",
   "name": "python3"
  },
  "language_info": {
   "codemirror_mode": {
    "name": "ipython",
    "version": 3
   },
   "file_extension": ".py",
   "mimetype": "text/x-python",
   "name": "python",
   "nbconvert_exporter": "python",
   "pygments_lexer": "ipython3",
   "version": "3.8.8"
  }
 },
 "nbformat": 4,
 "nbformat_minor": 5
}
