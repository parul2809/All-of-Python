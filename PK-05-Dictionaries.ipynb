{
 "cells": [
  {
   "cell_type": "markdown",
   "id": "6cc1d22e",
   "metadata": {},
   "source": [
    "#### PK-05-Dictionaries\n",
    "\n",
    "## Dictionaries \n",
    "\n",
    "We've been learning about sequences in Python but now we're going to switch gears and learn about mappings in Python. If you're familiar with other languages you can think of these Dictionaries as hash tables.\n",
    "\n",
    "So what are mappings? Mappings are a collection of objects that are stored by a key, unlike a sequence that stored objects by their relative position. This is an important distinction, since mappings won't retain order since they have objects defined by a key.\n",
    "\n",
    "A Python dictionary consists of a key and then an associated value. That value can be almost any Python object."
   ]
  },
  {
   "cell_type": "markdown",
   "id": "c7eb8a2c",
   "metadata": {},
   "source": [
    "### 1. Constructing a Dictionary  "
   ]
  },
  {
   "cell_type": "code",
   "execution_count": 1,
   "id": "ec30528b",
   "metadata": {},
   "outputs": [],
   "source": [
    "# Make a dictionary with a {} and : to signify a key and a value \n",
    "my_dict = {'key1': 'value1', 'key2': 'value2'}"
   ]
  },
  {
   "cell_type": "code",
   "execution_count": 2,
   "id": "8b923470",
   "metadata": {},
   "outputs": [
    {
     "data": {
      "text/plain": [
       "'value2'"
      ]
     },
     "execution_count": 2,
     "metadata": {},
     "output_type": "execute_result"
    }
   ],
   "source": [
    "# Call values by their key \n",
    "my_dict['key2']"
   ]
  },
  {
   "cell_type": "markdown",
   "id": "185779dd",
   "metadata": {},
   "source": [
    "Its important to note that dictionaries are very flexible in the data types they can hold. For example:"
   ]
  },
  {
   "cell_type": "code",
   "execution_count": 11,
   "id": "821a158a",
   "metadata": {},
   "outputs": [],
   "source": [
    "my_dict = {'key1': 123,\n",
    "           'key2': [12, 23, 33], \n",
    "           'key3': ['item0', 'item1', 'item2']}"
   ]
  },
  {
   "cell_type": "code",
   "execution_count": 12,
   "id": "b7745481",
   "metadata": {},
   "outputs": [
    {
     "data": {
      "text/plain": [
       "['item0', 'item1', 'item2']"
      ]
     },
     "execution_count": 12,
     "metadata": {},
     "output_type": "execute_result"
    }
   ],
   "source": [
    "# Let's call items from the dictionary \n",
    "my_dict['key3']"
   ]
  },
  {
   "cell_type": "code",
   "execution_count": 13,
   "id": "8002a2ef",
   "metadata": {},
   "outputs": [
    {
     "data": {
      "text/plain": [
       "'ITEM0'"
      ]
     },
     "execution_count": 13,
     "metadata": {},
     "output_type": "execute_result"
    }
   ],
   "source": [
    "# can call an index on that value \n",
    "my_dict['key3'][0].upper()"
   ]
  },
  {
   "cell_type": "markdown",
   "id": "a57fd5ed",
   "metadata": {},
   "source": [
    "We can affect the values of a key as well. For instance:"
   ]
  },
  {
   "cell_type": "code",
   "execution_count": 14,
   "id": "d6ac3da1",
   "metadata": {},
   "outputs": [
    {
     "data": {
      "text/plain": [
       "123"
      ]
     },
     "execution_count": 14,
     "metadata": {},
     "output_type": "execute_result"
    }
   ],
   "source": [
    "my_dict['key1']"
   ]
  },
  {
   "cell_type": "code",
   "execution_count": 15,
   "id": "759799bc",
   "metadata": {},
   "outputs": [],
   "source": [
    "# Subtract 123 from the value \n",
    "my_dict['key1'] -= 123"
   ]
  },
  {
   "cell_type": "code",
   "execution_count": 16,
   "id": "91dc4971",
   "metadata": {},
   "outputs": [
    {
     "data": {
      "text/plain": [
       "0"
      ]
     },
     "execution_count": 16,
     "metadata": {},
     "output_type": "execute_result"
    }
   ],
   "source": [
    "# Check \n",
    "my_dict['key1']"
   ]
  },
  {
   "cell_type": "markdown",
   "id": "a185d81d",
   "metadata": {},
   "source": [
    "We can also create keys by assignment. For instance if we started off with an empty dictionary, we could continually add to it:"
   ]
  },
  {
   "cell_type": "code",
   "execution_count": 17,
   "id": "437ccc45",
   "metadata": {},
   "outputs": [],
   "source": [
    "# Create a new dictionary \n",
    "d = {}"
   ]
  },
  {
   "cell_type": "code",
   "execution_count": 18,
   "id": "3a37731b",
   "metadata": {},
   "outputs": [],
   "source": [
    "# Create a new key through assignment \n",
    "d['animal'] = 'Dog'"
   ]
  },
  {
   "cell_type": "code",
   "execution_count": 19,
   "id": "927add0b",
   "metadata": {},
   "outputs": [],
   "source": [
    "# Can do this with any object\n",
    "d['answer'] = 42"
   ]
  },
  {
   "cell_type": "code",
   "execution_count": 20,
   "id": "a47fa300",
   "metadata": {},
   "outputs": [
    {
     "data": {
      "text/plain": [
       "{'animal': 'Dog', 'answer': 42}"
      ]
     },
     "execution_count": 20,
     "metadata": {},
     "output_type": "execute_result"
    }
   ],
   "source": [
    "# Show \n",
    "d"
   ]
  },
  {
   "cell_type": "markdown",
   "id": "ed0fbba5",
   "metadata": {},
   "source": [
    "### 2. Nesting with Dictionaries "
   ]
  },
  {
   "cell_type": "markdown",
   "id": "9d601e66",
   "metadata": {},
   "source": [
    "Let's see a dictionary nested inside a dictionary:"
   ]
  },
  {
   "cell_type": "code",
   "execution_count": 21,
   "id": "9324dfc3",
   "metadata": {},
   "outputs": [],
   "source": [
    "# Dictionary nested inside a dictionary nested inside a dictionary\n",
    "d = {'key1':{'nestkey':{'subnestkey': 'value'}}}"
   ]
  },
  {
   "cell_type": "code",
   "execution_count": 23,
   "id": "a55d0e61",
   "metadata": {},
   "outputs": [
    {
     "data": {
      "text/plain": [
       "'value'"
      ]
     },
     "execution_count": 23,
     "metadata": {},
     "output_type": "execute_result"
    }
   ],
   "source": [
    "# Grab the value\n",
    "d['key1']['nestkey']['subnestkey']"
   ]
  },
  {
   "cell_type": "markdown",
   "id": "838345d1",
   "metadata": {},
   "source": [
    "### 3. A few Dictionay Methods "
   ]
  },
  {
   "cell_type": "code",
   "execution_count": 24,
   "id": "d08a451c",
   "metadata": {},
   "outputs": [],
   "source": [
    "# Create a typical dictionary \n",
    "d = {'key1': 1, \n",
    "     'key2': 2, \n",
    "     'key3': 3}"
   ]
  },
  {
   "cell_type": "code",
   "execution_count": 25,
   "id": "1e6a009b",
   "metadata": {},
   "outputs": [
    {
     "data": {
      "text/plain": [
       "dict_keys(['key1', 'key2', 'key3'])"
      ]
     },
     "execution_count": 25,
     "metadata": {},
     "output_type": "execute_result"
    }
   ],
   "source": [
    "# Method to return a list of all keys\n",
    "d.keys()"
   ]
  },
  {
   "cell_type": "code",
   "execution_count": 26,
   "id": "d2c7ceeb",
   "metadata": {},
   "outputs": [
    {
     "data": {
      "text/plain": [
       "dict_values([1, 2, 3])"
      ]
     },
     "execution_count": 26,
     "metadata": {},
     "output_type": "execute_result"
    }
   ],
   "source": [
    "# Method to grab all values \n",
    "d.values()"
   ]
  },
  {
   "cell_type": "code",
   "execution_count": 27,
   "id": "c402257a",
   "metadata": {},
   "outputs": [
    {
     "data": {
      "text/plain": [
       "dict_items([('key1', 1), ('key2', 2), ('key3', 3)])"
      ]
     },
     "execution_count": 27,
     "metadata": {},
     "output_type": "execute_result"
    }
   ],
   "source": [
    "# Method to return tuple of all items \n",
    "d.items()"
   ]
  },
  {
   "cell_type": "code",
   "execution_count": null,
   "id": "14f41a56",
   "metadata": {},
   "outputs": [],
   "source": []
  }
 ],
 "metadata": {
  "kernelspec": {
   "display_name": "Python 3",
   "language": "python",
   "name": "python3"
  },
  "language_info": {
   "codemirror_mode": {
    "name": "ipython",
    "version": 3
   },
   "file_extension": ".py",
   "mimetype": "text/x-python",
   "name": "python",
   "nbconvert_exporter": "python",
   "pygments_lexer": "ipython3",
   "version": "3.8.8"
  }
 },
 "nbformat": 4,
 "nbformat_minor": 5
}
