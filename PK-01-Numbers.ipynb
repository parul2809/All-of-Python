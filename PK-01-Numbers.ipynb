{
 "cells": [
  {
   "cell_type": "markdown",
   "id": "f352d76b",
   "metadata": {},
   "source": [
    "#### PK-01-Numbers \n",
    "## Numbers and more in Python!"
   ]
  },
  {
   "cell_type": "markdown",
   "id": "29d735ba",
   "metadata": {},
   "source": [
    "### 1. Types of Numbers in Python "
   ]
  },
  {
   "cell_type": "markdown",
   "id": "cb823ce0",
   "metadata": {},
   "source": [
    "Python has various \"types\" of numbers (numeric literals). We'll mainly focus on integers and floating point numbers.\n",
    "\n",
    "Integers are just whole numbers, positive or negative. For example: 2 and -2 are examples of integers.\n",
    "\n",
    "Floating point numbers in Python are notable because they have a decimal point in them, or use an exponential (e) to define the number. For example 2.0 and -2.1 are examples of floating point numbers. 4E2 (4 times 10 to the power of 2) is also an example of a floating point number in Python.\n",
    "\n",
    "Throughout this course we will be mainly working with integers or simple float number types.\n",
    "\n",
    "Here are two main types we will spend most of our time working with some examples:\n"
   ]
  },
  {
   "cell_type": "markdown",
   "id": "018091a1",
   "metadata": {},
   "source": [
    "1,2,-5,1000\tare Integers\n",
    "\n",
    "\n",
    "1.2,-0.5,2e2,3E2 are Floating-point numbers\n"
   ]
  },
  {
   "cell_type": "markdown",
   "id": "a686de6a",
   "metadata": {},
   "source": [
    "### 2. Basic Arithmetic"
   ]
  },
  {
   "cell_type": "code",
   "execution_count": 1,
   "id": "fb6511c4",
   "metadata": {},
   "outputs": [
    {
     "data": {
      "text/plain": [
       "7"
      ]
     },
     "execution_count": 1,
     "metadata": {},
     "output_type": "execute_result"
    }
   ],
   "source": [
    "# Addition \n",
    "6 + 1"
   ]
  },
  {
   "cell_type": "code",
   "execution_count": 2,
   "id": "25c8f889",
   "metadata": {},
   "outputs": [
    {
     "data": {
      "text/plain": [
       "7"
      ]
     },
     "execution_count": 2,
     "metadata": {},
     "output_type": "execute_result"
    }
   ],
   "source": [
    "# Subtraction \n",
    "8 - 1"
   ]
  },
  {
   "cell_type": "code",
   "execution_count": 3,
   "id": "cb940db4",
   "metadata": {},
   "outputs": [
    {
     "data": {
      "text/plain": [
       "16"
      ]
     },
     "execution_count": 3,
     "metadata": {},
     "output_type": "execute_result"
    }
   ],
   "source": [
    "# Multiplication \n",
    "8 * 2"
   ]
  },
  {
   "cell_type": "markdown",
   "id": "0eb3f586",
   "metadata": {},
   "source": [
    "### 3. Differences between classic division and floor division "
   ]
  },
  {
   "cell_type": "code",
   "execution_count": 4,
   "id": "2142aecb",
   "metadata": {},
   "outputs": [
    {
     "data": {
      "text/plain": [
       "13.285714285714286"
      ]
     },
     "execution_count": 4,
     "metadata": {},
     "output_type": "execute_result"
    }
   ],
   "source": [
    "# Division \n",
    "93 / 7"
   ]
  },
  {
   "cell_type": "code",
   "execution_count": 5,
   "id": "7ceba8cb",
   "metadata": {},
   "outputs": [
    {
     "data": {
      "text/plain": [
       "32"
      ]
     },
     "execution_count": 5,
     "metadata": {},
     "output_type": "execute_result"
    }
   ],
   "source": [
    "# Floor Division \n",
    "98 // 3"
   ]
  },
  {
   "cell_type": "markdown",
   "id": "2158dd2c",
   "metadata": {},
   "source": [
    "The reason we get this result is because we are using \"floor\" division. The // operator (two forward slashes) truncates the decimal without rounding, and returns an integer result."
   ]
  },
  {
   "cell_type": "markdown",
   "id": "593ff84a",
   "metadata": {},
   "source": [
    "#### So what if we just want the remainder after division?"
   ]
  },
  {
   "cell_type": "code",
   "execution_count": 6,
   "id": "1a2df606",
   "metadata": {},
   "outputs": [
    {
     "data": {
      "text/plain": [
       "2"
      ]
     },
     "execution_count": 6,
     "metadata": {},
     "output_type": "execute_result"
    }
   ],
   "source": [
    "# Modulo \n",
    "98 % 3"
   ]
  },
  {
   "cell_type": "code",
   "execution_count": 7,
   "id": "99843371",
   "metadata": {},
   "outputs": [
    {
     "data": {
      "text/plain": [
       "32"
      ]
     },
     "execution_count": 7,
     "metadata": {},
     "output_type": "execute_result"
    }
   ],
   "source": [
    "# Powers \n",
    "2 ** 5"
   ]
  },
  {
   "cell_type": "code",
   "execution_count": 8,
   "id": "c53decb1",
   "metadata": {},
   "outputs": [
    {
     "data": {
      "text/plain": [
       "4.0"
      ]
     },
     "execution_count": 8,
     "metadata": {},
     "output_type": "execute_result"
    }
   ],
   "source": [
    "# Can also do roots this way \n",
    "16 ** 0.5"
   ]
  },
  {
   "cell_type": "code",
   "execution_count": 9,
   "id": "cd1b7389",
   "metadata": {},
   "outputs": [
    {
     "data": {
      "text/plain": [
       "68"
      ]
     },
     "execution_count": 9,
     "metadata": {},
     "output_type": "execute_result"
    }
   ],
   "source": [
    "# Order of operations followed in Python \n",
    "4 * 10 + 7 * 4"
   ]
  },
  {
   "cell_type": "code",
   "execution_count": 10,
   "id": "c1e97e64",
   "metadata": {},
   "outputs": [
    {
     "data": {
      "text/plain": [
       "68"
      ]
     },
     "execution_count": 10,
     "metadata": {},
     "output_type": "execute_result"
    }
   ],
   "source": [
    "# Can use parentheses to specify orders \n",
    "(4 * 10) + (7 * 4)"
   ]
  },
  {
   "cell_type": "markdown",
   "id": "ec5e88a0",
   "metadata": {},
   "source": [
    "### 4. Object Assignment in Python"
   ]
  },
  {
   "cell_type": "markdown",
   "id": "bf5fec75",
   "metadata": {},
   "source": [
    "### Variable Assignments \n",
    "Now that we've seen how to use numbers in Python as a calculator let's see how we can assign names and create variables.\n",
    "\n",
    "We use a single equals sign to assign labels to variables. Let's see a few examples of how we can do this."
   ]
  },
  {
   "cell_type": "code",
   "execution_count": 11,
   "id": "34475c02",
   "metadata": {},
   "outputs": [],
   "source": [
    "# Let's create an object called \"a\" and assign it the number 50\n",
    "a = 50"
   ]
  },
  {
   "cell_type": "markdown",
   "id": "2d6e7f4b",
   "metadata": {},
   "source": [
    "Now if I call *a* in my Python script, Python will treat it as the number 50."
   ]
  },
  {
   "cell_type": "code",
   "execution_count": 12,
   "id": "77cbfc07",
   "metadata": {},
   "outputs": [
    {
     "data": {
      "text/plain": [
       "100"
      ]
     },
     "execution_count": 12,
     "metadata": {},
     "output_type": "execute_result"
    }
   ],
   "source": [
    "# Adding the objects \n",
    "a + a"
   ]
  },
  {
   "cell_type": "code",
   "execution_count": 13,
   "id": "f45f2353",
   "metadata": {},
   "outputs": [],
   "source": [
    "# Reassignment \n",
    "a = 100"
   ]
  },
  {
   "cell_type": "code",
   "execution_count": 14,
   "id": "c4b4c8e4",
   "metadata": {},
   "outputs": [
    {
     "data": {
      "text/plain": [
       "100"
      ]
     },
     "execution_count": 14,
     "metadata": {},
     "output_type": "execute_result"
    }
   ],
   "source": [
    "# Check \n",
    "a"
   ]
  },
  {
   "cell_type": "markdown",
   "id": "0e57c84f",
   "metadata": {},
   "source": [
    "Yes! Python allows you to write over assigned variable names. We can also use the variables themselves when doing the reassignment. Here is an example of what I mean:"
   ]
  },
  {
   "cell_type": "code",
   "execution_count": 15,
   "id": "12b43146",
   "metadata": {},
   "outputs": [
    {
     "data": {
      "text/plain": [
       "100"
      ]
     },
     "execution_count": 15,
     "metadata": {},
     "output_type": "execute_result"
    }
   ],
   "source": [
    "# Check \n",
    "a"
   ]
  },
  {
   "cell_type": "code",
   "execution_count": 16,
   "id": "9335e89a",
   "metadata": {},
   "outputs": [],
   "source": [
    "# Use a to redefine a \n",
    "a = a + a + a"
   ]
  },
  {
   "cell_type": "code",
   "execution_count": 17,
   "id": "28edaa67",
   "metadata": {},
   "outputs": [
    {
     "data": {
      "text/plain": [
       "300"
      ]
     },
     "execution_count": 17,
     "metadata": {},
     "output_type": "execute_result"
    }
   ],
   "source": [
    "# Check \n",
    "a"
   ]
  },
  {
   "cell_type": "markdown",
   "id": "19352f10",
   "metadata": {},
   "source": [
    "The names you use when creating these labels need to follow a few rules:\n",
    "\n",
    "1. Names can not start with a number.\n",
    "2. There can be no spaces in the name, use _ instead.\n",
    "3. Can't use any of these symbols :'\",<>/?|\\()!@#$%^&*~-+\n",
    "4. It's considered best practice (PEP8) that names are lowercase.\n",
    "5. Avoid using the characters 'l' (lowercase letter el), 'O' (uppercase letter oh), \n",
    "   or 'I' (uppercase letter eye) as single character variable names.\n",
    "6. Avoid using words that have special meaning in Python like \"list\" and \"str\"\n",
    "Using variable names can be a very useful way to keep track of different variables in Python. For example:"
   ]
  },
  {
   "cell_type": "code",
   "execution_count": 18,
   "id": "ce1c0005",
   "metadata": {},
   "outputs": [],
   "source": [
    "# Use object names to keep better track of what's going on in your code!\n",
    "my_income = 1000\n",
    "\n",
    "tax_rate = 0.15\n",
    "\n",
    "my_taxes = my_income * tax_rate"
   ]
  },
  {
   "cell_type": "code",
   "execution_count": 19,
   "id": "c50f8f90",
   "metadata": {},
   "outputs": [
    {
     "data": {
      "text/plain": [
       "150.0"
      ]
     },
     "execution_count": 19,
     "metadata": {},
     "output_type": "execute_result"
    }
   ],
   "source": [
    "# Show my taxes!\n",
    "my_taxes"
   ]
  },
  {
   "cell_type": "markdown",
   "id": "10022523",
   "metadata": {},
   "source": [
    "So what have we learned? We learned some of the basics of numbers in Python. We also learned how to do arithmetic and use Python as a basic calculator. We then wrapped it up with learning about Variable Assignment in Python.\n",
    "\n",
    "Up next we'll learn about Strings!"
   ]
  }
 ],
 "metadata": {
  "kernelspec": {
   "display_name": "Python 3",
   "language": "python",
   "name": "python3"
  },
  "language_info": {
   "codemirror_mode": {
    "name": "ipython",
    "version": 3
   },
   "file_extension": ".py",
   "mimetype": "text/x-python",
   "name": "python",
   "nbconvert_exporter": "python",
   "pygments_lexer": "ipython3",
   "version": "3.8.8"
  }
 },
 "nbformat": 4,
 "nbformat_minor": 5
}
