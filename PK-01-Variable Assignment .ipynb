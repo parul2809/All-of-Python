{
 "cells": [
  {
   "cell_type": "markdown",
   "id": "fa377d57",
   "metadata": {},
   "source": [
    "#### PK-01-Variable Assignment \n",
    "## Variable Assignment"
   ]
  },
  {
   "cell_type": "markdown",
   "id": "6a323e31",
   "metadata": {},
   "source": [
    "### Rules for variable names \n",
    "\n",
    "names cannot start with a number\n",
    "\n",
    "names cannot contain spaces, use _ intead\n",
    "\n",
    "names cannot contain any of these symbols:\n",
    "\n",
    ":'\",<>/?|\\!@#%^&*~-+\n",
    "\n",
    "\n",
    "it's considered best practice (PEP8) that names are lowercase with underscores\n",
    "\n",
    "avoid using Python built-in keywords like list and str\n",
    "\n",
    "avoid using the single characters l (lowercase letter el), O (uppercase letter oh) and I (uppercase letter eye) as they can be confused with 1 and 0"
   ]
  },
  {
   "cell_type": "markdown",
   "id": "5573f2cb",
   "metadata": {},
   "source": [
    "### Dynamic Typing "
   ]
  },
  {
   "cell_type": "markdown",
   "id": "abd60db9",
   "metadata": {},
   "source": [
    "Python uses dynamic typing, meaning you can reassign variables to different data types. This makes Python very flexible in assigning data types; it differs from other languages that are statically typed."
   ]
  },
  {
   "cell_type": "code",
   "execution_count": 3,
   "id": "ec386c61",
   "metadata": {},
   "outputs": [],
   "source": [
    "my_dogs = 20"
   ]
  },
  {
   "cell_type": "code",
   "execution_count": 4,
   "id": "9e5fcef9",
   "metadata": {},
   "outputs": [
    {
     "data": {
      "text/plain": [
       "20"
      ]
     },
     "execution_count": 4,
     "metadata": {},
     "output_type": "execute_result"
    }
   ],
   "source": [
    "my_dogs"
   ]
  },
  {
   "cell_type": "code",
   "execution_count": 5,
   "id": "49ea9b92",
   "metadata": {},
   "outputs": [],
   "source": [
    "my_dogs = ['Suman', 'Raman']"
   ]
  },
  {
   "cell_type": "code",
   "execution_count": 6,
   "id": "e037e7dd",
   "metadata": {},
   "outputs": [
    {
     "data": {
      "text/plain": [
       "['Suman', 'Raman']"
      ]
     },
     "execution_count": 6,
     "metadata": {},
     "output_type": "execute_result"
    }
   ],
   "source": [
    "my_dogs"
   ]
  },
  {
   "cell_type": "markdown",
   "id": "ed72e6b8",
   "metadata": {},
   "source": [
    "### Pros and Cons of Dynamic Typing\n",
    "#### Pros of Dynamic Typing\n",
    "very easy to work with\n",
    "faster development time\n",
    "#### Cons of Dynamic Typing\n",
    "may result in unexpected bugs!\n",
    "you need to be aware of type()"
   ]
  },
  {
   "cell_type": "markdown",
   "id": "a99f33e6",
   "metadata": {},
   "source": [
    "### Assigning Variables "
   ]
  },
  {
   "cell_type": "markdown",
   "id": "180f6a34",
   "metadata": {},
   "source": [
    "Variable assignment follows name = object, where a single equals sign = is an assignment operator"
   ]
  },
  {
   "cell_type": "code",
   "execution_count": 7,
   "id": "f5a34192",
   "metadata": {},
   "outputs": [],
   "source": [
    "a = 88"
   ]
  },
  {
   "cell_type": "code",
   "execution_count": 8,
   "id": "f4d887c1",
   "metadata": {},
   "outputs": [
    {
     "data": {
      "text/plain": [
       "88"
      ]
     },
     "execution_count": 8,
     "metadata": {},
     "output_type": "execute_result"
    }
   ],
   "source": [
    "a"
   ]
  },
  {
   "cell_type": "markdown",
   "id": "604c8465",
   "metadata": {},
   "source": [
    "Here we assigned the integer object 88 to the variable name a.\n",
    "Let's assign a to something else:"
   ]
  },
  {
   "cell_type": "code",
   "execution_count": 9,
   "id": "26446a8f",
   "metadata": {},
   "outputs": [],
   "source": [
    "a = 99"
   ]
  },
  {
   "cell_type": "code",
   "execution_count": 11,
   "id": "0833f3d9",
   "metadata": {},
   "outputs": [
    {
     "data": {
      "text/plain": [
       "99"
      ]
     },
     "execution_count": 11,
     "metadata": {},
     "output_type": "execute_result"
    }
   ],
   "source": [
    "a"
   ]
  },
  {
   "cell_type": "code",
   "execution_count": 13,
   "id": "dd7b0bf1",
   "metadata": {},
   "outputs": [
    {
     "data": {
      "text/plain": [
       "110"
      ]
     },
     "execution_count": 13,
     "metadata": {},
     "output_type": "execute_result"
    }
   ],
   "source": [
    "a + 11"
   ]
  },
  {
   "cell_type": "markdown",
   "id": "6d7f42f0",
   "metadata": {},
   "source": [
    "### Reassigning Variables\n",
    "Python lets you reassign variables with a reference to the same object."
   ]
  },
  {
   "cell_type": "code",
   "execution_count": 14,
   "id": "10f2879d",
   "metadata": {},
   "outputs": [],
   "source": [
    "a = a *100"
   ]
  },
  {
   "cell_type": "code",
   "execution_count": 15,
   "id": "d444e9ea",
   "metadata": {},
   "outputs": [
    {
     "data": {
      "text/plain": [
       "9900"
      ]
     },
     "execution_count": 15,
     "metadata": {},
     "output_type": "execute_result"
    }
   ],
   "source": [
    "a"
   ]
  },
  {
   "cell_type": "code",
   "execution_count": 16,
   "id": "e1bf65d3",
   "metadata": {},
   "outputs": [],
   "source": [
    "a = a*2"
   ]
  },
  {
   "cell_type": "code",
   "execution_count": 17,
   "id": "51bb19a7",
   "metadata": {},
   "outputs": [
    {
     "data": {
      "text/plain": [
       "19800"
      ]
     },
     "execution_count": 17,
     "metadata": {},
     "output_type": "execute_result"
    }
   ],
   "source": [
    "a"
   ]
  },
  {
   "cell_type": "markdown",
   "id": "7c7c2c2e",
   "metadata": {},
   "source": [
    "## Determining variable type with `type()`\n",
    "You can check what type of object is assigned to a variable using Python's built-in `type()` function. Common data types include:\n",
    "* **int** (for integer)\n",
    "* **float**\n",
    "* **str** (for string)\n",
    "* **list**\n",
    "* **tuple**\n",
    "* **dict** (for dictionary)\n",
    "* **set**\n",
    "* **bool** (for Boolean True/False)"
   ]
  },
  {
   "cell_type": "code",
   "execution_count": 18,
   "id": "096fa642",
   "metadata": {},
   "outputs": [
    {
     "data": {
      "text/plain": [
       "int"
      ]
     },
     "execution_count": 18,
     "metadata": {},
     "output_type": "execute_result"
    }
   ],
   "source": [
    "type(a)"
   ]
  },
  {
   "cell_type": "code",
   "execution_count": 19,
   "id": "939cfdce",
   "metadata": {},
   "outputs": [],
   "source": [
    "a = (1, 2)"
   ]
  },
  {
   "cell_type": "code",
   "execution_count": 20,
   "id": "1b94974a",
   "metadata": {},
   "outputs": [
    {
     "data": {
      "text/plain": [
       "tuple"
      ]
     },
     "execution_count": 20,
     "metadata": {},
     "output_type": "execute_result"
    }
   ],
   "source": [
    "type(a)"
   ]
  },
  {
   "cell_type": "markdown",
   "id": "dadd3951",
   "metadata": {},
   "source": [
    "## Simple Exercise\n",
    "This shows how variables make calculations more readable and easier to follow."
   ]
  },
  {
   "cell_type": "code",
   "execution_count": 21,
   "id": "e7db6d08",
   "metadata": {},
   "outputs": [],
   "source": [
    "my_income = 150000\n",
    "tax_rate = 0.30\n",
    "my_taxes = my_income * tax_rate"
   ]
  },
  {
   "cell_type": "code",
   "execution_count": 22,
   "id": "2c818644",
   "metadata": {},
   "outputs": [
    {
     "data": {
      "text/plain": [
       "45000.0"
      ]
     },
     "execution_count": 22,
     "metadata": {},
     "output_type": "execute_result"
    }
   ],
   "source": [
    "my_taxes"
   ]
  },
  {
   "cell_type": "code",
   "execution_count": 23,
   "id": "de09187a",
   "metadata": {},
   "outputs": [
    {
     "data": {
      "text/plain": [
       "105000.0"
      ]
     },
     "execution_count": 23,
     "metadata": {},
     "output_type": "execute_result"
    }
   ],
   "source": [
    "my_income-my_taxes"
   ]
  },
  {
   "cell_type": "code",
   "execution_count": null,
   "id": "11cd3779",
   "metadata": {},
   "outputs": [],
   "source": []
  }
 ],
 "metadata": {
  "kernelspec": {
   "display_name": "Python 3",
   "language": "python",
   "name": "python3"
  },
  "language_info": {
   "codemirror_mode": {
    "name": "ipython",
    "version": 3
   },
   "file_extension": ".py",
   "mimetype": "text/x-python",
   "name": "python",
   "nbconvert_exporter": "python",
   "pygments_lexer": "ipython3",
   "version": "3.8.8"
  }
 },
 "nbformat": 4,
 "nbformat_minor": 5
}
