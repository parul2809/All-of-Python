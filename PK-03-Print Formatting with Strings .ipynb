{
 "cells": [
  {
   "cell_type": "markdown",
   "id": "866f77f6",
   "metadata": {},
   "source": [
    "#### PK-03-Print Formatting with Strings \n",
    "## String Formatting \n",
    "\n",
    "String formatting lets you inject items into a string rather than trying to chain items together using commas or string concatenation. As a quick comparison, consider:\n",
    "\n",
    "player = 'Thomas'\n",
    "points = 33\n",
    "\n",
    "'Last night, '+player+' scored '+str(points)+' points.'  # concatenation\n",
    "\n",
    "f'Last night, {player} scored {points} points.'          # string formatting\n",
    "There are three ways to perform string formatting.\n",
    "\n",
    "The oldest method involves placeholders using the modulo % character.\n",
    "An improved technique uses the .format() string method.\n",
    "The newest method, introduced with Python 3.6, uses formatted string literals, called f-strings.\n",
    "Since you will likely encounter all three versions in someone else's code, we describe each of them here."
   ]
  },
  {
   "cell_type": "markdown",
   "id": "4aecd435",
   "metadata": {},
   "source": [
    "### 1. Formatting with placeholders \n",
    "\n",
    "You can use %s to inject strings into your print statements. The modulo % is referred to as a \"string formatting operator\"."
   ]
  },
  {
   "cell_type": "code",
   "execution_count": 2,
   "id": "22325ae0",
   "metadata": {},
   "outputs": [
    {
     "name": "stdout",
     "output_type": "stream",
     "text": [
      "I'm going to inject a word here.\n"
     ]
    }
   ],
   "source": [
    "print(\"I'm going to inject %s here.\" % 'a word')"
   ]
  },
  {
   "cell_type": "markdown",
   "id": "e65d2dae",
   "metadata": {},
   "source": [
    "You can pass multiple items by placing them inside a tuple after the % operator."
   ]
  },
  {
   "cell_type": "code",
   "execution_count": 4,
   "id": "442fcecb",
   "metadata": {},
   "outputs": [
    {
     "name": "stdout",
     "output_type": "stream",
     "text": [
      "My first name is Parul and my last name is Khattar.\n"
     ]
    }
   ],
   "source": [
    "print(\"My first name is %s and my last name is %s.\" %('Parul', 'Khattar'))"
   ]
  },
  {
   "cell_type": "markdown",
   "id": "dc7960ef",
   "metadata": {},
   "source": [
    "You can also pass variable names:"
   ]
  },
  {
   "cell_type": "code",
   "execution_count": 6,
   "id": "62f91892",
   "metadata": {},
   "outputs": [
    {
     "name": "stdout",
     "output_type": "stream",
     "text": [
      "I scored 99 marks in English exam.\n"
     ]
    }
   ],
   "source": [
    "x, y = 'English', 99\n",
    "print(\"I scored %s marks in %s exam.\" %(y,x))"
   ]
  },
  {
   "cell_type": "markdown",
   "id": "8c4fe15c",
   "metadata": {},
   "source": [
    "### Format conversion methods "
   ]
  },
  {
   "cell_type": "markdown",
   "id": "469fe932",
   "metadata": {},
   "source": [
    "It should be noted that two methods %s and %r convert any python object to a string using two separate methods: str() and repr(). We will learn more about these functions later on in the course, but you should note that %r and repr() deliver the string representation of the object, including quotation marks and any escape characters."
   ]
  },
  {
   "cell_type": "code",
   "execution_count": 9,
   "id": "561be85b",
   "metadata": {},
   "outputs": [
    {
     "name": "stdout",
     "output_type": "stream",
     "text": [
      "She said her name was Parul.\n",
      "She said her name was 'Parul'.\n"
     ]
    }
   ],
   "source": [
    "print('She said her name was %s.' %'Parul')\n",
    "print('She said her name was %r.' %'Parul')"
   ]
  },
  {
   "cell_type": "markdown",
   "id": "504264c6",
   "metadata": {},
   "source": [
    "As another example, \\t inserts a tab into a string."
   ]
  },
  {
   "cell_type": "code",
   "execution_count": 12,
   "id": "3da02e98",
   "metadata": {},
   "outputs": [
    {
     "name": "stdout",
     "output_type": "stream",
     "text": [
      "I once caught a fish this \tbig.\n",
      "I once caught a fish 'this \\tbig'.\n"
     ]
    }
   ],
   "source": [
    "print('I once caught a fish %s.' %'this \\tbig')\n",
    "print('I once caught a fish %r.' %'this \\tbig')"
   ]
  },
  {
   "cell_type": "markdown",
   "id": "1087db59",
   "metadata": {},
   "source": [
    "The %s operator converts whatever it sees into a string, including integers and floats. The %d operator converts numbers to integers first, without rounding. Note the difference below:"
   ]
  },
  {
   "cell_type": "code",
   "execution_count": 14,
   "id": "100ad106",
   "metadata": {},
   "outputs": [
    {
     "name": "stdout",
     "output_type": "stream",
     "text": [
      "I wrote 3.75 programs today.\n",
      "I wrote 3 programs today.\n"
     ]
    }
   ],
   "source": [
    "print('I wrote %s programs today.' %3.75)\n",
    "print('I wrote %d programs today.' %3.75)"
   ]
  },
  {
   "cell_type": "markdown",
   "id": "8718db4c",
   "metadata": {},
   "source": [
    "### Padding and Precision of Floating Point Numbers"
   ]
  },
  {
   "cell_type": "markdown",
   "id": "4688804b",
   "metadata": {},
   "source": [
    "Floating point numbers use the format %5.2f. Here, 5 would be the minimum number of characters the string should contain; these may be padded with whitespace if the entire number does not have this many digits. Next to this, .2f stands for how many numbers to show past the decimal point. Let's see some examples:"
   ]
  },
  {
   "cell_type": "code",
   "execution_count": 16,
   "id": "9f4c1367",
   "metadata": {},
   "outputs": [
    {
     "name": "stdout",
     "output_type": "stream",
     "text": [
      "Floating point numbers : 12.15\n"
     ]
    }
   ],
   "source": [
    "print('Floating point numbers : %5.2f' %(12.149))"
   ]
  },
  {
   "cell_type": "code",
   "execution_count": 18,
   "id": "b3ae056e",
   "metadata": {},
   "outputs": [
    {
     "name": "stdout",
     "output_type": "stream",
     "text": [
      "Floating point numbers : 12\n"
     ]
    }
   ],
   "source": [
    "print('Floating point numbers : %1.0f' %(12.149))"
   ]
  },
  {
   "cell_type": "code",
   "execution_count": 20,
   "id": "925d9238",
   "metadata": {},
   "outputs": [
    {
     "name": "stdout",
     "output_type": "stream",
     "text": [
      "Floating point numbers : 12.14900\n"
     ]
    }
   ],
   "source": [
    "print('Floating point numbers : %1.5f' %(12.149))"
   ]
  },
  {
   "cell_type": "code",
   "execution_count": 21,
   "id": "01072cdf",
   "metadata": {},
   "outputs": [
    {
     "name": "stdout",
     "output_type": "stream",
     "text": [
      "Floating point numbers :      12.15\n"
     ]
    }
   ],
   "source": [
    "print('Floating point numbers : %10.2f' %(12.149))"
   ]
  },
  {
   "cell_type": "code",
   "execution_count": 22,
   "id": "36812e18",
   "metadata": {},
   "outputs": [
    {
     "name": "stdout",
     "output_type": "stream",
     "text": [
      "Floating point numbers :                     12.15\n"
     ]
    }
   ],
   "source": [
    "print('Floating point numbers : %25.2f' %(12.149))"
   ]
  },
  {
   "cell_type": "markdown",
   "id": "65671ed3",
   "metadata": {},
   "source": [
    "### Multile Formatting"
   ]
  },
  {
   "cell_type": "markdown",
   "id": "fa28e6c6",
   "metadata": {},
   "source": [
    "Nothing prohibits using more than one conversion tool in the same print statement:"
   ]
  },
  {
   "cell_type": "code",
   "execution_count": 23,
   "id": "27f3a7f4",
   "metadata": {},
   "outputs": [
    {
     "name": "stdout",
     "output_type": "stream",
     "text": [
      "First: Helllo, Second:  77.78, Third: 'tomorrow'\n"
     ]
    }
   ],
   "source": [
    "print('First: %s, Second: %6.2f, Third: %r' % ('Helllo', 77.777, \"tomorrow\"))"
   ]
  },
  {
   "cell_type": "markdown",
   "id": "616d62d9",
   "metadata": {},
   "source": [
    "### 2. Formatting with the `.format()` method \n",
    "A better way to format objects into your strings for print statements is with the string `.format()` method. The syntax is:\n",
    "\n",
    "    'String here {} then also {}'.format('something1','something2')\n",
    "    \n",
    "For example:"
   ]
  },
  {
   "cell_type": "code",
   "execution_count": 25,
   "id": "1c3ef440",
   "metadata": {},
   "outputs": [
    {
     "name": "stdout",
     "output_type": "stream",
     "text": [
      "This is a hello with a goodbye.\n"
     ]
    }
   ],
   "source": [
    "print('This is a hello with a {}.'.format('goodbye'))"
   ]
  },
  {
   "cell_type": "markdown",
   "id": "2e9b0c89",
   "metadata": {},
   "source": [
    "#### The .format() method has several advantages over the %s placeholder method:"
   ]
  },
  {
   "cell_type": "markdown",
   "id": "2dd14a15",
   "metadata": {},
   "source": [
    "##### 1. Inserted objects can be called by index position:"
   ]
  },
  {
   "cell_type": "code",
   "execution_count": 26,
   "id": "7143f567",
   "metadata": {},
   "outputs": [
    {
     "name": "stdout",
     "output_type": "stream",
     "text": [
      "The quick brown fox\n"
     ]
    }
   ],
   "source": [
    "print('The {2} {1} {0}'.format('fox', 'brown', 'quick'))"
   ]
  },
  {
   "cell_type": "markdown",
   "id": "4fca804e",
   "metadata": {},
   "source": [
    "##### 2. Inserted objects can be assigned keywords: "
   ]
  },
  {
   "cell_type": "code",
   "execution_count": 27,
   "id": "8070554c",
   "metadata": {},
   "outputs": [
    {
     "name": "stdout",
     "output_type": "stream",
     "text": [
      "First object: 1, Second object: Two, Third object: 3.14\n"
     ]
    }
   ],
   "source": [
    "print('First object: {a}, Second object: {b}, Third object: {c}'.format(a = 1, b = 'Two', c = 3.14))"
   ]
  },
  {
   "cell_type": "markdown",
   "id": "d5324148",
   "metadata": {},
   "source": [
    "##### 3. Inserted objects can be reused, avoiding duplication:"
   ]
  },
  {
   "cell_type": "code",
   "execution_count": 29,
   "id": "0547ae39",
   "metadata": {},
   "outputs": [
    {
     "name": "stdout",
     "output_type": "stream",
     "text": [
      "A penny saved is a penny earned.\n",
      "A penny saved is a penny earned.\n"
     ]
    }
   ],
   "source": [
    "print('A %s saved is a %s earned.' %('penny', 'penny'))\n",
    "\n",
    "# vs.\n",
    "\n",
    "print('A {p} saved is a {p} earned.'.format(p = 'penny'))"
   ]
  },
  {
   "cell_type": "markdown",
   "id": "63e94fb2",
   "metadata": {},
   "source": [
    "### Alignment, padding and precision with `.format()`\n",
    "Within the curly braces you can assign field lengths, left/right alignments, rounding parameters and more"
   ]
  },
  {
   "cell_type": "code",
   "execution_count": 52,
   "id": "9cb80fa4",
   "metadata": {},
   "outputs": [
    {
     "name": "stdout",
     "output_type": "stream",
     "text": [
      "Fruit    | Quantity \n",
      "Apples   |       3.0\n",
      "Oranges  |        10\n"
     ]
    }
   ],
   "source": [
    "print('{0:8} | {1:9}'.format('Fruit', 'Quantity'))\n",
    "print('{0:8} | {1:9}'.format('Apples', 3.))\n",
    "print('{0:8} | {1:9}'.format('Oranges', 10))"
   ]
  },
  {
   "cell_type": "markdown",
   "id": "3ca896c7",
   "metadata": {},
   "source": [
    "By default, `.format()` aligns text to the left, numbers to the right. You can pass an optional `<`,`^`, or `>` to set a left, center or right alignment:"
   ]
  },
  {
   "cell_type": "code",
   "execution_count": 55,
   "id": "7ad68e84",
   "metadata": {},
   "outputs": [
    {
     "name": "stdout",
     "output_type": "stream",
     "text": [
      "Left     |  Center  |    Right\n",
      "11       |    22    |       33\n"
     ]
    }
   ],
   "source": [
    "print('{0: <8} | {1: ^8} | {2: >8}'.format('Left', 'Center', 'Right'))\n",
    "print('{0: <8} | {1: ^8} | {2: >8}'.format(11, 22, 33))"
   ]
  },
  {
   "cell_type": "markdown",
   "id": "105b58ea",
   "metadata": {},
   "source": [
    "You can precede the aligment operator with a padding character"
   ]
  },
  {
   "cell_type": "code",
   "execution_count": 56,
   "id": "8207e966",
   "metadata": {},
   "outputs": [
    {
     "name": "stdout",
     "output_type": "stream",
     "text": [
      "Left==== | -Center- | ...Right\n",
      "11====== | ---22--- | ......33\n"
     ]
    }
   ],
   "source": [
    "print('{0:=<8} | {1:-^8} | {2:.>8}'.format('Left','Center','Right'))\n",
    "print('{0:=<8} | {1:-^8} | {2:.>8}'.format(11,22,33))"
   ]
  },
  {
   "cell_type": "markdown",
   "id": "4c3af5a0",
   "metadata": {},
   "source": [
    "Field widths and float precision are handled in a way similar to placeholders. The following two print statements are equivalent:"
   ]
  },
  {
   "cell_type": "code",
   "execution_count": 57,
   "id": "8d4d5223",
   "metadata": {},
   "outputs": [
    {
     "name": "stdout",
     "output_type": "stream",
     "text": [
      "This is my ten-character, two-decimal number:     13.58\n",
      "This is my ten-character, two-decimal number:     13.58\n"
     ]
    }
   ],
   "source": [
    "print('This is my ten-character, two-decimal number:%10.2f' %13.579)\n",
    "print('This is my ten-character, two-decimal number:{0:10.2f}'.format(13.579))"
   ]
  },
  {
   "cell_type": "markdown",
   "id": "1e198c5b",
   "metadata": {},
   "source": [
    "Note that there are 5 spaces following the colon, and 5 characters taken up by 13.58, for a total of ten characters."
   ]
  },
  {
   "cell_type": "markdown",
   "id": "0f5d32a0",
   "metadata": {},
   "source": [
    "### 3. Formatted String Literals (f-strings)\n",
    "\n",
    "Introduced in Python 3.6, f-strings offer several benefits over the older `.format()` string method described above. For one, you can bring outside variables immediately into to the string rather than pass them as arguments through `.format(var)`."
   ]
  },
  {
   "cell_type": "code",
   "execution_count": 58,
   "id": "c6cb33ef",
   "metadata": {},
   "outputs": [
    {
     "name": "stdout",
     "output_type": "stream",
     "text": [
      "She said her name is Parul.\n"
     ]
    }
   ],
   "source": [
    "name = 'Parul'\n",
    "\n",
    "print(f\"She said her name is {name}.\")"
   ]
  },
  {
   "cell_type": "markdown",
   "id": "c4a7632f",
   "metadata": {},
   "source": [
    "Pass !r to get the string representation:"
   ]
  },
  {
   "cell_type": "code",
   "execution_count": 59,
   "id": "659b3d68",
   "metadata": {},
   "outputs": [
    {
     "name": "stdout",
     "output_type": "stream",
     "text": [
      "She said her name is 'Parul'.\n"
     ]
    }
   ],
   "source": [
    "print(f\"She said her name is {name!r}.\")"
   ]
  },
  {
   "cell_type": "markdown",
   "id": "0b6f49ad",
   "metadata": {},
   "source": [
    "##### Float formatting follows `\"result: {value:{width}.{precision}}\"`"
   ]
  },
  {
   "cell_type": "markdown",
   "id": "0982e282",
   "metadata": {},
   "source": [
    "Where with the `.format()` method you might see `{value:10.4f}`, with f-strings this can become `{value:{10}.{6}}`"
   ]
  },
  {
   "cell_type": "code",
   "execution_count": 61,
   "id": "7b788ded",
   "metadata": {},
   "outputs": [
    {
     "name": "stdout",
     "output_type": "stream",
     "text": [
      "My 10 character, four decimal number is:    22.5682\n",
      "My 10 character, four decimal number is:    22.5682\n"
     ]
    }
   ],
   "source": [
    "num = 22.56821\n",
    "print(\"My 10 character, four decimal number is: {0:10.4f}\".format(num))\n",
    "print(f\"My 10 character, four decimal number is: {num: {10}.{6}}\")"
   ]
  },
  {
   "cell_type": "markdown",
   "id": "6aebd534",
   "metadata": {},
   "source": [
    "Note that with f-strings, precision refers to the total number of digits, not just those following the decimal. This fits more closely with scientific notation and statistical analysis. Unfortunately, f-strings do not pad to the right of the decimal, even if precision allows it:"
   ]
  },
  {
   "cell_type": "code",
   "execution_count": 62,
   "id": "f1942358",
   "metadata": {},
   "outputs": [
    {
     "name": "stdout",
     "output_type": "stream",
     "text": [
      "My 10 character, four decimal number is:   23.4500\n",
      "My 10 character, four decimal number is:     23.45\n"
     ]
    }
   ],
   "source": [
    "num = 23.45\n",
    "print(\"My 10 character, four decimal number is:{0:10.4f}\".format(num))\n",
    "print(f\"My 10 character, four decimal number is:{num:{10}.{6}}\")"
   ]
  },
  {
   "cell_type": "markdown",
   "id": "2287176a",
   "metadata": {},
   "source": [
    "If this becomes important, you can always use .format() method syntax inside an f-string:"
   ]
  },
  {
   "cell_type": "code",
   "execution_count": 63,
   "id": "9108b47a",
   "metadata": {},
   "outputs": [
    {
     "name": "stdout",
     "output_type": "stream",
     "text": [
      "My 10 character, four decimal number is:   23.4500\n",
      "My 10 character, four decimal number is:   23.4500\n"
     ]
    }
   ],
   "source": [
    "num = 23.45\n",
    "print(\"My 10 character, four decimal number is:{0:10.4f}\".format(num))\n",
    "print(f\"My 10 character, four decimal number is:{num:10.4f}\")"
   ]
  },
  {
   "cell_type": "code",
   "execution_count": null,
   "id": "648a132e",
   "metadata": {},
   "outputs": [],
   "source": []
  }
 ],
 "metadata": {
  "kernelspec": {
   "display_name": "Python 3",
   "language": "python",
   "name": "python3"
  },
  "language_info": {
   "codemirror_mode": {
    "name": "ipython",
    "version": 3
   },
   "file_extension": ".py",
   "mimetype": "text/x-python",
   "name": "python",
   "nbconvert_exporter": "python",
   "pygments_lexer": "ipython3",
   "version": "3.8.8"
  }
 },
 "nbformat": 4,
 "nbformat_minor": 5
}
