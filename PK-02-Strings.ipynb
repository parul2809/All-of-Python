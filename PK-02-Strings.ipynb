{
 "cells": [
  {
   "cell_type": "markdown",
   "id": "c998906e",
   "metadata": {},
   "source": [
    "#### PK-02-Strings\n",
    "## Strings \n",
    "\n",
    "Strings are used in Python to record text information, such as names. Strings in Python are actually a sequence, which basically means Python keeps track of every element in the string as a sequence. For example, Python understands the string \"hello' to be a sequence of letters in a specific order. This means we will be able to use indexing to grab particular letters (like the first letter, or the last letter)."
   ]
  },
  {
   "cell_type": "markdown",
   "id": "cdddeb8d",
   "metadata": {},
   "source": [
    "### Creating a String \n",
    "\n",
    "To create a string in Python you need to use either single quotes or double quotes. For example:"
   ]
  },
  {
   "cell_type": "code",
   "execution_count": 2,
   "id": "39dbbf27",
   "metadata": {},
   "outputs": [
    {
     "data": {
      "text/plain": [
       "'parul'"
      ]
     },
     "execution_count": 2,
     "metadata": {},
     "output_type": "execute_result"
    }
   ],
   "source": [
    "# Single word \n",
    "'parul'"
   ]
  },
  {
   "cell_type": "code",
   "execution_count": 3,
   "id": "4c73f89f",
   "metadata": {},
   "outputs": [
    {
     "data": {
      "text/plain": [
       "'My name is Parul Khattar'"
      ]
     },
     "execution_count": 3,
     "metadata": {},
     "output_type": "execute_result"
    }
   ],
   "source": [
    "# Entire phrase \n",
    "'My name is Parul Khattar'"
   ]
  },
  {
   "cell_type": "code",
   "execution_count": 4,
   "id": "6b76c655",
   "metadata": {},
   "outputs": [
    {
     "data": {
      "text/plain": [
       "'Parul is awesome'"
      ]
     },
     "execution_count": 4,
     "metadata": {},
     "output_type": "execute_result"
    }
   ],
   "source": [
    "# We can also use double quotes \n",
    "\"Parul is awesome\""
   ]
  },
  {
   "cell_type": "code",
   "execution_count": 5,
   "id": "397664ab",
   "metadata": {},
   "outputs": [
    {
     "ename": "SyntaxError",
     "evalue": "invalid syntax (<ipython-input-5-da1866934c82>, line 2)",
     "output_type": "error",
     "traceback": [
      "\u001b[1;36m  File \u001b[1;32m\"<ipython-input-5-da1866934c82>\"\u001b[1;36m, line \u001b[1;32m2\u001b[0m\n\u001b[1;33m    'I'm a good coder but this line might result in an error. '\u001b[0m\n\u001b[1;37m       ^\u001b[0m\n\u001b[1;31mSyntaxError\u001b[0m\u001b[1;31m:\u001b[0m invalid syntax\n"
     ]
    }
   ],
   "source": [
    "# Be caeful with quotes!\n",
    "'I'm a good coder but this line might result in an error. '"
   ]
  },
  {
   "cell_type": "markdown",
   "id": "d88b0fe6",
   "metadata": {},
   "source": [
    "The reason for the error above is because the single quote in I'm stopped the string. You can use combinations of double and single quotes to get the complete statement."
   ]
  },
  {
   "cell_type": "code",
   "execution_count": 6,
   "id": "5a18c4bd",
   "metadata": {},
   "outputs": [
    {
     "data": {
      "text/plain": [
       "\"I'm a good coder but this line might result in an error. \""
      ]
     },
     "execution_count": 6,
     "metadata": {},
     "output_type": "execute_result"
    }
   ],
   "source": [
    "\"I'm a good coder but this line might result in an error. \""
   ]
  },
  {
   "cell_type": "markdown",
   "id": "f290d978",
   "metadata": {},
   "source": [
    "### Printing a String "
   ]
  },
  {
   "cell_type": "markdown",
   "id": "0edd4594",
   "metadata": {},
   "source": [
    "Using Jupyter notebook with just a string in a cell will automatically output strings, but the correct way to display strings in your output is by using a print function."
   ]
  },
  {
   "cell_type": "code",
   "execution_count": 7,
   "id": "5a9f73ba",
   "metadata": {},
   "outputs": [
    {
     "data": {
      "text/plain": [
       "'Parul Khattar'"
      ]
     },
     "execution_count": 7,
     "metadata": {},
     "output_type": "execute_result"
    }
   ],
   "source": [
    "# We can simply declare a string \n",
    "'Parul Khattar'"
   ]
  },
  {
   "cell_type": "code",
   "execution_count": 8,
   "id": "0444959b",
   "metadata": {},
   "outputs": [
    {
     "data": {
      "text/plain": [
       "'Parul'"
      ]
     },
     "execution_count": 8,
     "metadata": {},
     "output_type": "execute_result"
    }
   ],
   "source": [
    "# Note that we can't output multiple strings this way \n",
    "'Minnie'\n",
    "'Parul'"
   ]
  },
  {
   "cell_type": "markdown",
   "id": "91a3dd28",
   "metadata": {},
   "source": [
    "We can use a print statement to print a string."
   ]
  },
  {
   "cell_type": "code",
   "execution_count": 14,
   "id": "7f123b80",
   "metadata": {},
   "outputs": [
    {
     "name": "stdout",
     "output_type": "stream",
     "text": [
      "Hello World!\n",
      "Parul Khattar\n",
      "Use \n",
      " to print a new line\n",
      "\n",
      "\n",
      "See what I mean?\n"
     ]
    }
   ],
   "source": [
    "print('Hello World!')\n",
    "print(\"Parul Khattar\")\n",
    "print('Use \\n to print a new line')\n",
    "print('\\n')\n",
    "print('See what I mean?')"
   ]
  },
  {
   "cell_type": "markdown",
   "id": "1ea82b40",
   "metadata": {},
   "source": [
    "### String Basics "
   ]
  },
  {
   "cell_type": "markdown",
   "id": "d87ef6ac",
   "metadata": {},
   "source": [
    "We can also use a function called len() to check the length of a string!\n",
    "\n",
    "Python's built-in len() function counts all of the characters in the string, including spaces and punctuation."
   ]
  },
  {
   "cell_type": "code",
   "execution_count": 16,
   "id": "766bda62",
   "metadata": {},
   "outputs": [
    {
     "data": {
      "text/plain": [
       "13"
      ]
     },
     "execution_count": 16,
     "metadata": {},
     "output_type": "execute_result"
    }
   ],
   "source": [
    "len('hello parul !')"
   ]
  },
  {
   "cell_type": "markdown",
   "id": "16415861",
   "metadata": {},
   "source": [
    "### String Indexing "
   ]
  },
  {
   "cell_type": "markdown",
   "id": "9d30e36b",
   "metadata": {},
   "source": [
    "We know strings are a sequence, which means Python can use indexes to call parts of the sequence. Let's learn how this works.\n",
    "\n",
    "In Python, we use brackets [] after an object to call its index. We should also note that indexing starts at 0 for Python. Let's create a new object called s and then walk through a few examples of indexing."
   ]
  },
  {
   "cell_type": "code",
   "execution_count": 17,
   "id": "da3456e6",
   "metadata": {},
   "outputs": [],
   "source": [
    "# Assign s as a string \n",
    "s = 'Parul Khattar'"
   ]
  },
  {
   "cell_type": "code",
   "execution_count": 18,
   "id": "d4829021",
   "metadata": {},
   "outputs": [
    {
     "data": {
      "text/plain": [
       "'Parul Khattar'"
      ]
     },
     "execution_count": 18,
     "metadata": {},
     "output_type": "execute_result"
    }
   ],
   "source": [
    "# Check \n",
    "s"
   ]
  },
  {
   "cell_type": "code",
   "execution_count": 19,
   "id": "30f135cd",
   "metadata": {},
   "outputs": [
    {
     "name": "stdout",
     "output_type": "stream",
     "text": [
      "Parul Khattar\n"
     ]
    }
   ],
   "source": [
    "# Print the object \n",
    "print(s)"
   ]
  },
  {
   "cell_type": "markdown",
   "id": "c375dd60",
   "metadata": {},
   "source": [
    "Let's start indexing !"
   ]
  },
  {
   "cell_type": "code",
   "execution_count": 20,
   "id": "f07a1bd9",
   "metadata": {},
   "outputs": [
    {
     "data": {
      "text/plain": [
       "'P'"
      ]
     },
     "execution_count": 20,
     "metadata": {},
     "output_type": "execute_result"
    }
   ],
   "source": [
    "# Show first element (in this case P letter)\n",
    "s[0]"
   ]
  },
  {
   "cell_type": "code",
   "execution_count": 21,
   "id": "7ed47fc9",
   "metadata": {},
   "outputs": [
    {
     "data": {
      "text/plain": [
       "'a'"
      ]
     },
     "execution_count": 21,
     "metadata": {},
     "output_type": "execute_result"
    }
   ],
   "source": [
    "s[1]"
   ]
  },
  {
   "cell_type": "code",
   "execution_count": 22,
   "id": "80dc7e84",
   "metadata": {},
   "outputs": [
    {
     "data": {
      "text/plain": [
       "'r'"
      ]
     },
     "execution_count": 22,
     "metadata": {},
     "output_type": "execute_result"
    }
   ],
   "source": [
    "s[2]"
   ]
  },
  {
   "cell_type": "markdown",
   "id": "11abd28c",
   "metadata": {},
   "source": [
    "We can use a : to perform slicing which grabs everything up to a designated point. For example:"
   ]
  },
  {
   "cell_type": "code",
   "execution_count": 23,
   "id": "b47ef91e",
   "metadata": {},
   "outputs": [
    {
     "data": {
      "text/plain": [
       "'arul Khattar'"
      ]
     },
     "execution_count": 23,
     "metadata": {},
     "output_type": "execute_result"
    }
   ],
   "source": [
    "# Grab everything past the first term all the way to the length of s which is len(s)\n",
    "s[1:]"
   ]
  },
  {
   "cell_type": "code",
   "execution_count": 24,
   "id": "5f790eef",
   "metadata": {},
   "outputs": [
    {
     "data": {
      "text/plain": [
       "'Parul Khattar'"
      ]
     },
     "execution_count": 24,
     "metadata": {},
     "output_type": "execute_result"
    }
   ],
   "source": [
    "# Note that there is no change to the original s\n",
    "s"
   ]
  },
  {
   "cell_type": "code",
   "execution_count": 25,
   "id": "8305bde1",
   "metadata": {},
   "outputs": [
    {
     "data": {
      "text/plain": [
       "'Par'"
      ]
     },
     "execution_count": 25,
     "metadata": {},
     "output_type": "execute_result"
    }
   ],
   "source": [
    "# Grab everything UP TO the 3rd index\n",
    "s[:3]"
   ]
  },
  {
   "cell_type": "markdown",
   "id": "2bc931e7",
   "metadata": {},
   "source": [
    "Note the above slicing. Here we're telling Python to grab everything from 0 up to 3. It doesn't include the 3rd index. You'll notice this a lot in Python, where statements and are usually in the context of \"up to, but not including\"."
   ]
  },
  {
   "cell_type": "code",
   "execution_count": 26,
   "id": "491e33ec",
   "metadata": {},
   "outputs": [
    {
     "data": {
      "text/plain": [
       "'Parul Khattar'"
      ]
     },
     "execution_count": 26,
     "metadata": {},
     "output_type": "execute_result"
    }
   ],
   "source": [
    "#Everything\n",
    "s[:]"
   ]
  },
  {
   "cell_type": "markdown",
   "id": "d0899dac",
   "metadata": {},
   "source": [
    "We can also use negative indexing to go backwards."
   ]
  },
  {
   "cell_type": "code",
   "execution_count": 27,
   "id": "74009aec",
   "metadata": {},
   "outputs": [
    {
     "data": {
      "text/plain": [
       "'r'"
      ]
     },
     "execution_count": 27,
     "metadata": {},
     "output_type": "execute_result"
    }
   ],
   "source": [
    "# Last letter (one index behind 0 so it loops back around)\n",
    "s[-1]"
   ]
  },
  {
   "cell_type": "code",
   "execution_count": 28,
   "id": "bdb62583",
   "metadata": {},
   "outputs": [
    {
     "data": {
      "text/plain": [
       "'Parul Khatta'"
      ]
     },
     "execution_count": 28,
     "metadata": {},
     "output_type": "execute_result"
    }
   ],
   "source": [
    "# Grab everything but the last letter\n",
    "s[:-1]"
   ]
  },
  {
   "cell_type": "markdown",
   "id": "f19b7190",
   "metadata": {},
   "source": [
    "We can also use index and slice notation to grab elements of a sequence by a specified step size (the default is 1). For instance we can use two colons in a row and then a number specifying the frequency to grab elements. For example:"
   ]
  },
  {
   "cell_type": "code",
   "execution_count": 29,
   "id": "9ddbdb05",
   "metadata": {},
   "outputs": [
    {
     "data": {
      "text/plain": [
       "'Parul Khattar'"
      ]
     },
     "execution_count": 29,
     "metadata": {},
     "output_type": "execute_result"
    }
   ],
   "source": [
    "# Grab everything, but go in steps size of 1\n",
    "s[::1]"
   ]
  },
  {
   "cell_type": "code",
   "execution_count": 30,
   "id": "9e6538c8",
   "metadata": {},
   "outputs": [
    {
     "data": {
      "text/plain": [
       "'PrlKatr'"
      ]
     },
     "execution_count": 30,
     "metadata": {},
     "output_type": "execute_result"
    }
   ],
   "source": [
    "# Grab everything, but go in step sizes of 2\n",
    "s[::2]"
   ]
  },
  {
   "cell_type": "code",
   "execution_count": 31,
   "id": "0be73c92",
   "metadata": {},
   "outputs": [
    {
     "data": {
      "text/plain": [
       "'rattahK luraP'"
      ]
     },
     "execution_count": 31,
     "metadata": {},
     "output_type": "execute_result"
    }
   ],
   "source": [
    "# We can use this to print a string backwards\n",
    "s[::-1]"
   ]
  },
  {
   "cell_type": "markdown",
   "id": "91abccc8",
   "metadata": {},
   "source": [
    "### String Properties "
   ]
  },
  {
   "cell_type": "markdown",
   "id": "6ffd5fea",
   "metadata": {},
   "source": [
    "It's important to note that strings have an important property known as immutability. This means that once a string is created, the elements within it can not be changed or replaced. For example:"
   ]
  },
  {
   "cell_type": "code",
   "execution_count": 32,
   "id": "f95fe653",
   "metadata": {},
   "outputs": [
    {
     "data": {
      "text/plain": [
       "'Parul Khattar'"
      ]
     },
     "execution_count": 32,
     "metadata": {},
     "output_type": "execute_result"
    }
   ],
   "source": [
    "s"
   ]
  },
  {
   "cell_type": "code",
   "execution_count": 33,
   "id": "38a12cc4",
   "metadata": {},
   "outputs": [
    {
     "ename": "TypeError",
     "evalue": "'str' object does not support item assignment",
     "output_type": "error",
     "traceback": [
      "\u001b[1;31m---------------------------------------------------------------------------\u001b[0m",
      "\u001b[1;31mTypeError\u001b[0m                                 Traceback (most recent call last)",
      "\u001b[1;32m<ipython-input-33-5ad829c5e38a>\u001b[0m in \u001b[0;36m<module>\u001b[1;34m\u001b[0m\n\u001b[0;32m      1\u001b[0m \u001b[1;31m# Let's try to change the first letter to 'x'\u001b[0m\u001b[1;33m\u001b[0m\u001b[1;33m\u001b[0m\u001b[1;33m\u001b[0m\u001b[0m\n\u001b[1;32m----> 2\u001b[1;33m \u001b[0ms\u001b[0m\u001b[1;33m[\u001b[0m\u001b[1;36m0\u001b[0m\u001b[1;33m]\u001b[0m \u001b[1;33m=\u001b[0m \u001b[1;34m'K'\u001b[0m\u001b[1;33m\u001b[0m\u001b[1;33m\u001b[0m\u001b[0m\n\u001b[0m",
      "\u001b[1;31mTypeError\u001b[0m: 'str' object does not support item assignment"
     ]
    }
   ],
   "source": [
    "# Let's try to change the first letter to 'x'\n",
    "s[0] = 'K'"
   ]
  },
  {
   "cell_type": "markdown",
   "id": "916f73d0",
   "metadata": {},
   "source": [
    "Notice how the error tells us directly what we can't do, change the item assignment!\n",
    "\n",
    "Something we can do is concatenate strings!"
   ]
  },
  {
   "cell_type": "code",
   "execution_count": 34,
   "id": "a55baddd",
   "metadata": {},
   "outputs": [
    {
     "data": {
      "text/plain": [
       "'Parul Khattar'"
      ]
     },
     "execution_count": 34,
     "metadata": {},
     "output_type": "execute_result"
    }
   ],
   "source": [
    "s"
   ]
  },
  {
   "cell_type": "code",
   "execution_count": 37,
   "id": "a0126472",
   "metadata": {},
   "outputs": [
    {
     "data": {
      "text/plain": [
       "'Parul Khattar concatenate me!'"
      ]
     },
     "execution_count": 37,
     "metadata": {},
     "output_type": "execute_result"
    }
   ],
   "source": [
    "# Concatenate strings!\n",
    "s + ' concatenate me!'"
   ]
  },
  {
   "cell_type": "code",
   "execution_count": 38,
   "id": "c3750432",
   "metadata": {},
   "outputs": [],
   "source": [
    "# We can reassign s completely though!\n",
    "s = s + ' concatenate me!'"
   ]
  },
  {
   "cell_type": "code",
   "execution_count": 39,
   "id": "e1331bae",
   "metadata": {},
   "outputs": [
    {
     "name": "stdout",
     "output_type": "stream",
     "text": [
      "Parul Khattar concatenate me!\n"
     ]
    }
   ],
   "source": [
    "print(s)"
   ]
  },
  {
   "cell_type": "code",
   "execution_count": 40,
   "id": "67d3cb25",
   "metadata": {},
   "outputs": [
    {
     "data": {
      "text/plain": [
       "'Parul Khattar concatenate me!'"
      ]
     },
     "execution_count": 40,
     "metadata": {},
     "output_type": "execute_result"
    }
   ],
   "source": [
    "s"
   ]
  },
  {
   "cell_type": "markdown",
   "id": "5bfdec95",
   "metadata": {},
   "source": [
    "We can use the multiplication symbol to create repetition!"
   ]
  },
  {
   "cell_type": "code",
   "execution_count": 41,
   "id": "6d659d77",
   "metadata": {},
   "outputs": [],
   "source": [
    "letter = 'z'"
   ]
  },
  {
   "cell_type": "code",
   "execution_count": 42,
   "id": "0e947cd3",
   "metadata": {},
   "outputs": [
    {
     "data": {
      "text/plain": [
       "'zzzzzzzzzzzzzzzzzz'"
      ]
     },
     "execution_count": 42,
     "metadata": {},
     "output_type": "execute_result"
    }
   ],
   "source": [
    "letter * 18"
   ]
  },
  {
   "cell_type": "markdown",
   "id": "721b5620",
   "metadata": {},
   "source": [
    "## Basic Built-in String methods\n",
    "\n",
    "Objects in Python usually have built-in methods. These methods are functions inside the object (we will learn about these in much more depth later) that can perform actions or commands on the object itself.\n",
    "\n",
    "We call methods with a period and then the method name. Methods are in the form:\n",
    "\n",
    "object.method(parameters)\n",
    "\n",
    "Here are some examples of built-in methods in strings:"
   ]
  },
  {
   "cell_type": "code",
   "execution_count": 43,
   "id": "10af37b4",
   "metadata": {},
   "outputs": [
    {
     "data": {
      "text/plain": [
       "'Parul Khattar concatenate me!'"
      ]
     },
     "execution_count": 43,
     "metadata": {},
     "output_type": "execute_result"
    }
   ],
   "source": [
    "s"
   ]
  },
  {
   "cell_type": "code",
   "execution_count": 44,
   "id": "5dd8c72a",
   "metadata": {},
   "outputs": [
    {
     "data": {
      "text/plain": [
       "'PARUL KHATTAR CONCATENATE ME!'"
      ]
     },
     "execution_count": 44,
     "metadata": {},
     "output_type": "execute_result"
    }
   ],
   "source": [
    "# Upper Case a string \n",
    "s.upper()"
   ]
  },
  {
   "cell_type": "code",
   "execution_count": 46,
   "id": "4e3676b4",
   "metadata": {},
   "outputs": [
    {
     "data": {
      "text/plain": [
       "'parul khattar concatenate me!'"
      ]
     },
     "execution_count": 46,
     "metadata": {},
     "output_type": "execute_result"
    }
   ],
   "source": [
    "# Lower Case a string \n",
    "s.lower()"
   ]
  },
  {
   "cell_type": "code",
   "execution_count": 47,
   "id": "040dca39",
   "metadata": {},
   "outputs": [
    {
     "data": {
      "text/plain": [
       "['Parul', 'Khattar', 'concatenate', 'me!']"
      ]
     },
     "execution_count": 47,
     "metadata": {},
     "output_type": "execute_result"
    }
   ],
   "source": [
    "# Split a string by blank space (this is the default)\n",
    "s.split()"
   ]
  },
  {
   "cell_type": "code",
   "execution_count": 49,
   "id": "7a331523",
   "metadata": {},
   "outputs": [
    {
     "data": {
      "text/plain": [
       "['P', 'rul Kh', 'tt', 'r conc', 'ten', 'te me!']"
      ]
     },
     "execution_count": 49,
     "metadata": {},
     "output_type": "execute_result"
    }
   ],
   "source": [
    "# Split by a specific element (doesn't include the element that was split on)\n",
    "s.split('a')"
   ]
  },
  {
   "cell_type": "markdown",
   "id": "907d311f",
   "metadata": {},
   "source": [
    "### Print Formatting "
   ]
  },
  {
   "cell_type": "markdown",
   "id": "5e31038f",
   "metadata": {},
   "source": [
    "We can use the .format() method to add formatted objects to printed string statements.\n",
    "\n",
    "The easiest way to show this is through an example:"
   ]
  },
  {
   "cell_type": "code",
   "execution_count": 50,
   "id": "58a440c8",
   "metadata": {},
   "outputs": [
    {
     "data": {
      "text/plain": [
       "'My name is : Parul Khattar'"
      ]
     },
     "execution_count": 50,
     "metadata": {},
     "output_type": "execute_result"
    }
   ],
   "source": [
    "'My name is : {}'.format('Parul Khattar')"
   ]
  }
 ],
 "metadata": {
  "kernelspec": {
   "display_name": "Python 3",
   "language": "python",
   "name": "python3"
  },
  "language_info": {
   "codemirror_mode": {
    "name": "ipython",
    "version": 3
   },
   "file_extension": ".py",
   "mimetype": "text/x-python",
   "name": "python",
   "nbconvert_exporter": "python",
   "pygments_lexer": "ipython3",
   "version": "3.8.8"
  }
 },
 "nbformat": 4,
 "nbformat_minor": 5
}
