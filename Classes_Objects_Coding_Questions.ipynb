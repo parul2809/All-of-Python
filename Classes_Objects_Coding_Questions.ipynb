{
  "nbformat": 4,
  "nbformat_minor": 0,
  "metadata": {
    "colab": {
      "provenance": [],
      "authorship_tag": "ABX9TyNcfD9cbVI4b3/0tnmPfWuE",
      "include_colab_link": true
    },
    "kernelspec": {
      "name": "python3",
      "display_name": "Python 3"
    },
    "language_info": {
      "name": "python"
    }
  },
  "cells": [
    {
      "cell_type": "markdown",
      "metadata": {
        "id": "view-in-github",
        "colab_type": "text"
      },
      "source": [
        "<a href=\"https://colab.research.google.com/github/parul2809/All-of-Python/blob/main/Classes_Objects_Coding_Questions.ipynb\" target=\"_parent\"><img src=\"https://colab.research.google.com/assets/colab-badge.svg\" alt=\"Open In Colab\"/></a>"
      ]
    },
    {
      "cell_type": "code",
      "execution_count": null,
      "metadata": {
        "id": "aPsXaLX7XBMC"
      },
      "outputs": [],
      "source": []
    },
    {
      "cell_type": "markdown",
      "source": [
        "Create a class called Person with the attributes name and age. Create a method called greet() that prints a greeting to the console. Create an object of the Person class and call the greet() method.\n"
      ],
      "metadata": {
        "id": "qYRN02kpXB_J"
      }
    },
    {
      "cell_type": "code",
      "source": [
        "class Person:\n",
        "  def __init__(self, name, age):\n",
        "    self.name = name\n",
        "    self.age = age\n",
        "\n",
        "  def greet(self):\n",
        "    print(\"Greetings!\")\n",
        "\n",
        "person1 = Person('Parul', 23)\n",
        "person1.greet()\n"
      ],
      "metadata": {
        "colab": {
          "base_uri": "https://localhost:8080/"
        },
        "id": "2Lk_SqQlXDCn",
        "outputId": "c59e40ba-3e16-447f-cfe2-7e2539743190"
      },
      "execution_count": 2,
      "outputs": [
        {
          "output_type": "stream",
          "name": "stdout",
          "text": [
            "Greetings!\n"
          ]
        }
      ]
    },
    {
      "cell_type": "markdown",
      "source": [
        "Create a class called Student with the attributes name, age, and grade. Create a method called get_grade() that returns the student's grade. Create an object of the Student class and call the get_grade() method.\n"
      ],
      "metadata": {
        "id": "KEKrVVTkXkjU"
      }
    },
    {
      "cell_type": "code",
      "source": [
        "class Student():\n",
        "  def __init__(self, name, age, grade):\n",
        "    self.name = name\n",
        "    self.age = age\n",
        "    self.grade = grade\n",
        "\n",
        "  def get_grade(self):\n",
        "    return self.grade\n",
        "\n",
        "student1 = Student(\"Parul\", 23, \"A\")\n",
        "student1.get_grade()"
      ],
      "metadata": {
        "colab": {
          "base_uri": "https://localhost:8080/",
          "height": 35
        },
        "id": "8ccMgcfJXxmy",
        "outputId": "c4b3f355-dc96-4bdd-e22a-00d96399e0cf"
      },
      "execution_count": 3,
      "outputs": [
        {
          "output_type": "execute_result",
          "data": {
            "text/plain": [
              "'A'"
            ],
            "application/vnd.google.colaboratory.intrinsic+json": {
              "type": "string"
            }
          },
          "metadata": {},
          "execution_count": 3
        }
      ]
    },
    {
      "cell_type": "markdown",
      "source": [
        "Create a class called Car with the attributes make, model, and year. Create a method called get_info() that prints the car's make, model, and year to the console. Create an object of the Car class and call the get_info() method."
      ],
      "metadata": {
        "id": "urCSCSWVYQie"
      }
    },
    {
      "cell_type": "code",
      "source": [
        "class Car():\n",
        "  def __init__(self, make, model, year):\n",
        "    self.make = make\n",
        "    self.model = model\n",
        "    self.year = year\n",
        "\n",
        "  def get_info(self):\n",
        "    print(\"make: \", self.make)\n",
        "    print(\"model: \", self.model)\n",
        "    print(\"year: \", self.year)\n",
        "\n",
        "car1 = Car(\"Honda\", \"ZX CVT\", 2023)\n",
        "car1.get_info()"
      ],
      "metadata": {
        "colab": {
          "base_uri": "https://localhost:8080/"
        },
        "id": "6mTMQnHVYLif",
        "outputId": "aafb69e8-284b-4168-ccb9-2bd6fa17a9a5"
      },
      "execution_count": 7,
      "outputs": [
        {
          "output_type": "stream",
          "name": "stdout",
          "text": [
            "make:  Honda\n",
            "model:  ZX CVT\n",
            "year:  2023\n"
          ]
        }
      ]
    },
    {
      "cell_type": "markdown",
      "source": [
        "Create a class called Dog with the attributes name, breed, and age. Create a method called bark() that prints a bark to the console. Create an object of the Dog class and call the bark() method."
      ],
      "metadata": {
        "id": "e2EVA2EaZZiS"
      }
    },
    {
      "cell_type": "code",
      "source": [
        "class Dog():\n",
        "  def __init__(self, name, breed, age):\n",
        "    self.name = name\n",
        "    self.breed = breed\n",
        "    self.age = age\n",
        "\n",
        "  def bark(self):\n",
        "    print(\"barkk!!\")\n",
        "\n",
        "dog1 = Dog(\"Cheeku\", \"Chihuahua\", 1)\n",
        "dog1.bark()"
      ],
      "metadata": {
        "colab": {
          "base_uri": "https://localhost:8080/"
        },
        "id": "mfXbY2gjZHI-",
        "outputId": "26e42a98-f83c-4601-bce0-fe512b925d07"
      },
      "execution_count": 8,
      "outputs": [
        {
          "output_type": "stream",
          "name": "stdout",
          "text": [
            "barkk!!\n"
          ]
        }
      ]
    },
    {
      "cell_type": "markdown",
      "source": [
        "Create a class called Employee with the attributes name, title, and salary. Create a method called get_salary() that returns the employee's salary. Create an object of the Employee class and call the get_salary() method."
      ],
      "metadata": {
        "id": "EPY42QOYZ_oy"
      }
    },
    {
      "cell_type": "code",
      "source": [
        "class Employee():\n",
        "  def __init__(self, name, title, salary):\n",
        "    self.name = name\n",
        "    self.title = title\n",
        "    self.salary = salary\n",
        "\n",
        "  def get_salary(self):\n",
        "    return self.salary\n",
        "\n",
        "employee1 = Employee(\"Parul\", \"Data Engineer\", \"$ 1M\")\n",
        "employee1.get_salary()"
      ],
      "metadata": {
        "colab": {
          "base_uri": "https://localhost:8080/",
          "height": 35
        },
        "id": "GMQDpsQ7aBbZ",
        "outputId": "952d0dae-1637-49c8-ace6-154e7de6d12a"
      },
      "execution_count": 9,
      "outputs": [
        {
          "output_type": "execute_result",
          "data": {
            "text/plain": [
              "'$ 1M'"
            ],
            "application/vnd.google.colaboratory.intrinsic+json": {
              "type": "string"
            }
          },
          "metadata": {},
          "execution_count": 9
        }
      ]
    },
    {
      "cell_type": "code",
      "source": [],
      "metadata": {
        "id": "yXrAIJhVaeii"
      },
      "execution_count": null,
      "outputs": []
    }
  ]
}